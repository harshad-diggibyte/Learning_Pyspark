{
 "cells": [
  {
   "cell_type": "code",
   "execution_count": 1,
   "id": "e872288a",
   "metadata": {},
   "outputs": [
    {
     "name": "stdout",
     "output_type": "stream",
     "text": [
      "Requirement already satisfied: pyspark in c:\\users\\hp\\anaconda3\\lib\\site-packages (3.3.0)\n",
      "Requirement already satisfied: py4j==0.10.9.5 in c:\\users\\hp\\anaconda3\\lib\\site-packages (from pyspark) (0.10.9.5)\n"
     ]
    }
   ],
   "source": [
    "!pip install pyspark"
   ]
  },
  {
   "cell_type": "code",
   "execution_count": 2,
   "id": "2e022a0f",
   "metadata": {},
   "outputs": [
    {
     "name": "stdout",
     "output_type": "stream",
     "text": [
      "Requirement already satisfied: pyspark in c:\\users\\hp\\anaconda3\\lib\\site-packages (3.3.0)\n",
      "Requirement already satisfied: py4j==0.10.9.5 in c:\\users\\hp\\anaconda3\\lib\\site-packages (from pyspark) (0.10.9.5)\n"
     ]
    }
   ],
   "source": [
    "!pip install pyspark"
   ]
  },
  {
   "cell_type": "code",
   "execution_count": 4,
   "id": "539f77a8",
   "metadata": {},
   "outputs": [],
   "source": [
    "import pyspark"
   ]
  },
  {
   "cell_type": "code",
   "execution_count": 5,
   "id": "a14c1c3a",
   "metadata": {},
   "outputs": [
    {
     "data": {
      "text/html": [
       "<div>\n",
       "<style scoped>\n",
       "    .dataframe tbody tr th:only-of-type {\n",
       "        vertical-align: middle;\n",
       "    }\n",
       "\n",
       "    .dataframe tbody tr th {\n",
       "        vertical-align: top;\n",
       "    }\n",
       "\n",
       "    .dataframe thead th {\n",
       "        text-align: right;\n",
       "    }\n",
       "</style>\n",
       "<table border=\"1\" class=\"dataframe\">\n",
       "  <thead>\n",
       "    <tr style=\"text-align: right;\">\n",
       "      <th></th>\n",
       "      <th>name</th>\n",
       "      <th>age</th>\n",
       "    </tr>\n",
       "  </thead>\n",
       "  <tbody>\n",
       "    <tr>\n",
       "      <th>0</th>\n",
       "      <td>krish</td>\n",
       "      <td>31</td>\n",
       "    </tr>\n",
       "    <tr>\n",
       "      <th>1</th>\n",
       "      <td>sudhanshu</td>\n",
       "      <td>30</td>\n",
       "    </tr>\n",
       "    <tr>\n",
       "      <th>2</th>\n",
       "      <td>sunny</td>\n",
       "      <td>29</td>\n",
       "    </tr>\n",
       "  </tbody>\n",
       "</table>\n",
       "</div>"
      ],
      "text/plain": [
       "       name   age\n",
       "0      krish   31\n",
       "1  sudhanshu   30\n",
       "2      sunny   29"
      ]
     },
     "execution_count": 5,
     "metadata": {},
     "output_type": "execute_result"
    }
   ],
   "source": [
    "import pandas as pd\n",
    "pd.read_csv('Book1.csv')"
   ]
  },
  {
   "cell_type": "code",
   "execution_count": 6,
   "id": "b9b5239c",
   "metadata": {},
   "outputs": [],
   "source": [
    "#Making spark session\n",
    "from pyspark.sql import SparkSession"
   ]
  },
  {
   "cell_type": "code",
   "execution_count": 7,
   "id": "64ee4e1c",
   "metadata": {},
   "outputs": [],
   "source": [
    "spark = SparkSession.builder.appName('Practise').getOrCreate()"
   ]
  },
  {
   "cell_type": "code",
   "execution_count": 8,
   "id": "c3fa798d",
   "metadata": {},
   "outputs": [
    {
     "data": {
      "text/html": [
       "\n",
       "            <div>\n",
       "                <p><b>SparkSession - in-memory</b></p>\n",
       "                \n",
       "        <div>\n",
       "            <p><b>SparkContext</b></p>\n",
       "\n",
       "            <p><a href=\"http://DESKTOP-E3UF1GL:4040\">Spark UI</a></p>\n",
       "\n",
       "            <dl>\n",
       "              <dt>Version</dt>\n",
       "                <dd><code>v3.3.0</code></dd>\n",
       "              <dt>Master</dt>\n",
       "                <dd><code>local[*]</code></dd>\n",
       "              <dt>AppName</dt>\n",
       "                <dd><code>Practise</code></dd>\n",
       "            </dl>\n",
       "        </div>\n",
       "        \n",
       "            </div>\n",
       "        "
      ],
      "text/plain": [
       "<pyspark.sql.session.SparkSession at 0x127e0242880>"
      ]
     },
     "execution_count": 8,
     "metadata": {},
     "output_type": "execute_result"
    }
   ],
   "source": [
    "spark"
   ]
  },
  {
   "cell_type": "code",
   "execution_count": null,
   "id": "465362d0",
   "metadata": {},
   "outputs": [],
   "source": []
  },
  {
   "cell_type": "code",
   "execution_count": 9,
   "id": "71845a93",
   "metadata": {},
   "outputs": [],
   "source": [
    "#Basic operations\n",
    "df_pyspark=spark.read.csv('Book1.csv')"
   ]
  },
  {
   "cell_type": "code",
   "execution_count": 10,
   "id": "1aca3508",
   "metadata": {},
   "outputs": [
    {
     "name": "stdout",
     "output_type": "stream",
     "text": [
      "+---------+---+\n",
      "|    name |age|\n",
      "+---------+---+\n",
      "|    krish| 31|\n",
      "|sudhanshu| 30|\n",
      "|    sunny| 29|\n",
      "+---------+---+\n",
      "\n",
      "+---------+---+\n",
      "|      _c0|_c1|\n",
      "+---------+---+\n",
      "|    name |age|\n",
      "|    krish| 31|\n",
      "|sudhanshu| 30|\n",
      "|    sunny| 29|\n",
      "+---------+---+\n",
      "\n"
     ]
    }
   ],
   "source": [
    "spark.read.option('header','true').csv('Book1.csv').show()\n",
    "df_pyspark=spark.read.csv('Book1.csv')\n",
    "df_pyspark.show()"
   ]
  },
  {
   "cell_type": "code",
   "execution_count": 20,
   "id": "217e9900",
   "metadata": {},
   "outputs": [
    {
     "name": "stdout",
     "output_type": "stream",
     "text": [
      "+------------+-----------+---------+-----------------+------------------+------------------------+-------------------------+-----------------------+--------------------+------+--------+------+----+-------+--------------+--------------------+-----------------+----------------------+------------------------------+------------------+------------------+---------------+------------+-----+-------+--------------------+-------------+------+---------------------------+-------------------------+------------------+-----------------------+\n",
      "|       hotel|is_canceled|lead_time|arrival_date_year|arrival_date_month|arrival_date_week_number|arrival_date_day_of_month|stays_in_weekend_nights|stays_in_week_nights|adults|children|babies|meal|country|market_segment|distribution_channel|is_repeated_guest|previous_cancellations|previous_bookings_not_canceled|reserved_room_type|assigned_room_type|booking_changes|deposit_type|agent|company|days_in_waiting_list|customer_type|   adr|required_car_parking_spaces|total_of_special_requests|reservation_status|reservation_status_date|\n",
      "+------------+-----------+---------+-----------------+------------------+------------------------+-------------------------+-----------------------+--------------------+------+--------+------+----+-------+--------------+--------------------+-----------------+----------------------+------------------------------+------------------+------------------+---------------+------------+-----+-------+--------------------+-------------+------+---------------------------+-------------------------+------------------+-----------------------+\n",
      "|Resort Hotel|          0|      342|             2015|              July|                      27|                        1|                      0|                   0|     2|       0|     0|  BB|    PRT|        Direct|              Direct|                0|                     0|                             0|                 C|                 C|              3|  No Deposit| NULL|   NULL|                   0|    Transient|   0.0|                          0|                        0|         Check-Out|    2015-07-01 00:00:00|\n",
      "|Resort Hotel|          0|      737|             2015|              July|                      27|                        1|                      0|                   0|     2|       0|     0|  BB|    PRT|        Direct|              Direct|                0|                     0|                             0|                 C|                 C|              4|  No Deposit| NULL|   NULL|                   0|    Transient|   0.0|                          0|                        0|         Check-Out|    2015-07-01 00:00:00|\n",
      "|Resort Hotel|          0|        7|             2015|              July|                      27|                        1|                      0|                   1|     1|       0|     0|  BB|    GBR|        Direct|              Direct|                0|                     0|                             0|                 A|                 C|              0|  No Deposit| NULL|   NULL|                   0|    Transient|  75.0|                          0|                        0|         Check-Out|    2015-07-02 00:00:00|\n",
      "|Resort Hotel|          0|       13|             2015|              July|                      27|                        1|                      0|                   1|     1|       0|     0|  BB|    GBR|     Corporate|           Corporate|                0|                     0|                             0|                 A|                 A|              0|  No Deposit|  304|   NULL|                   0|    Transient|  75.0|                          0|                        0|         Check-Out|    2015-07-02 00:00:00|\n",
      "|Resort Hotel|          0|       14|             2015|              July|                      27|                        1|                      0|                   2|     2|       0|     0|  BB|    GBR|     Online TA|               TA/TO|                0|                     0|                             0|                 A|                 A|              0|  No Deposit|  240|   NULL|                   0|    Transient|  98.0|                          0|                        1|         Check-Out|    2015-07-03 00:00:00|\n",
      "|Resort Hotel|          0|       14|             2015|              July|                      27|                        1|                      0|                   2|     2|       0|     0|  BB|    GBR|     Online TA|               TA/TO|                0|                     0|                             0|                 A|                 A|              0|  No Deposit|  240|   NULL|                   0|    Transient|  98.0|                          0|                        1|         Check-Out|    2015-07-03 00:00:00|\n",
      "|Resort Hotel|          0|        0|             2015|              July|                      27|                        1|                      0|                   2|     2|       0|     0|  BB|    PRT|        Direct|              Direct|                0|                     0|                             0|                 C|                 C|              0|  No Deposit| NULL|   NULL|                   0|    Transient| 107.0|                          0|                        0|         Check-Out|    2015-07-03 00:00:00|\n",
      "|Resort Hotel|          0|        9|             2015|              July|                      27|                        1|                      0|                   2|     2|       0|     0|  FB|    PRT|        Direct|              Direct|                0|                     0|                             0|                 C|                 C|              0|  No Deposit|  303|   NULL|                   0|    Transient| 103.0|                          0|                        1|         Check-Out|    2015-07-03 00:00:00|\n",
      "|Resort Hotel|          1|       85|             2015|              July|                      27|                        1|                      0|                   3|     2|       0|     0|  BB|    PRT|     Online TA|               TA/TO|                0|                     0|                             0|                 A|                 A|              0|  No Deposit|  240|   NULL|                   0|    Transient|  82.0|                          0|                        1|          Canceled|    2015-05-06 00:00:00|\n",
      "|Resort Hotel|          1|       75|             2015|              July|                      27|                        1|                      0|                   3|     2|       0|     0|  HB|    PRT| Offline TA/TO|               TA/TO|                0|                     0|                             0|                 D|                 D|              0|  No Deposit|   15|   NULL|                   0|    Transient| 105.5|                          0|                        0|          Canceled|    2015-04-22 00:00:00|\n",
      "|Resort Hotel|          1|       23|             2015|              July|                      27|                        1|                      0|                   4|     2|       0|     0|  BB|    PRT|     Online TA|               TA/TO|                0|                     0|                             0|                 E|                 E|              0|  No Deposit|  240|   NULL|                   0|    Transient| 123.0|                          0|                        0|          Canceled|    2015-06-23 00:00:00|\n",
      "|Resort Hotel|          0|       35|             2015|              July|                      27|                        1|                      0|                   4|     2|       0|     0|  HB|    PRT|     Online TA|               TA/TO|                0|                     0|                             0|                 D|                 D|              0|  No Deposit|  240|   NULL|                   0|    Transient| 145.0|                          0|                        0|         Check-Out|    2015-07-05 00:00:00|\n",
      "|Resort Hotel|          0|       68|             2015|              July|                      27|                        1|                      0|                   4|     2|       0|     0|  BB|    USA|     Online TA|               TA/TO|                0|                     0|                             0|                 D|                 E|              0|  No Deposit|  240|   NULL|                   0|    Transient|  97.0|                          0|                        3|         Check-Out|    2015-07-05 00:00:00|\n",
      "|Resort Hotel|          0|       18|             2015|              July|                      27|                        1|                      0|                   4|     2|       1|     0|  HB|    ESP|     Online TA|               TA/TO|                0|                     0|                             0|                 G|                 G|              1|  No Deposit|  241|   NULL|                   0|    Transient|154.77|                          0|                        1|         Check-Out|    2015-07-05 00:00:00|\n",
      "|Resort Hotel|          0|       37|             2015|              July|                      27|                        1|                      0|                   4|     2|       0|     0|  BB|    PRT|     Online TA|               TA/TO|                0|                     0|                             0|                 E|                 E|              0|  No Deposit|  241|   NULL|                   0|    Transient| 94.71|                          0|                        0|         Check-Out|    2015-07-05 00:00:00|\n",
      "|Resort Hotel|          0|       68|             2015|              July|                      27|                        1|                      0|                   4|     2|       0|     0|  BB|    IRL|     Online TA|               TA/TO|                0|                     0|                             0|                 D|                 E|              0|  No Deposit|  240|   NULL|                   0|    Transient|  97.0|                          0|                        3|         Check-Out|    2015-07-05 00:00:00|\n",
      "|Resort Hotel|          0|       37|             2015|              July|                      27|                        1|                      0|                   4|     2|       0|     0|  BB|    PRT| Offline TA/TO|               TA/TO|                0|                     0|                             0|                 E|                 E|              0|  No Deposit|    8|   NULL|                   0|     Contract|  97.5|                          0|                        0|         Check-Out|    2015-07-05 00:00:00|\n",
      "|Resort Hotel|          0|       12|             2015|              July|                      27|                        1|                      0|                   1|     2|       0|     0|  BB|    IRL|     Online TA|               TA/TO|                0|                     0|                             0|                 A|                 E|              0|  No Deposit|  240|   NULL|                   0|    Transient|  88.2|                          0|                        0|         Check-Out|    2015-07-02 00:00:00|\n",
      "|Resort Hotel|          0|        0|             2015|              July|                      27|                        1|                      0|                   1|     2|       0|     0|  BB|    FRA|     Corporate|           Corporate|                0|                     0|                             0|                 A|                 G|              0|  No Deposit| NULL|    110|                   0|    Transient|107.42|                          0|                        0|         Check-Out|    2015-07-02 00:00:00|\n",
      "|Resort Hotel|          0|        7|             2015|              July|                      27|                        1|                      0|                   4|     2|       0|     0|  BB|    GBR|        Direct|              Direct|                0|                     0|                             0|                 G|                 G|              0|  No Deposit|  250|   NULL|                   0|    Transient| 153.0|                          0|                        1|         Check-Out|    2015-07-05 00:00:00|\n",
      "+------------+-----------+---------+-----------------+------------------+------------------------+-------------------------+-----------------------+--------------------+------+--------+------+----+-------+--------------+--------------------+-----------------+----------------------+------------------------------+------------------+------------------+---------------+------------+-----+-------+--------------------+-------------+------+---------------------------+-------------------------+------------------+-----------------------+\n",
      "only showing top 20 rows\n",
      "\n"
     ]
    }
   ],
   "source": [
    "df_pyspark.show()"
   ]
  },
  {
   "cell_type": "code",
   "execution_count": 8,
   "id": "5eee2f84",
   "metadata": {},
   "outputs": [
    {
     "data": {
      "text/plain": [
       "DataFrame[hotel: string, is_canceled: string, lead_time: string, arrival_date_year: string, arrival_date_month: string, arrival_date_week_number: string, arrival_date_day_of_month: string, stays_in_weekend_nights: string, stays_in_week_nights: string, adults: string, children: string, babies: string, meal: string, country: string, market_segment: string, distribution_channel: string, is_repeated_guest: string, previous_cancellations: string, previous_bookings_not_canceled: string, reserved_room_type: string, assigned_room_type: string, booking_changes: string, deposit_type: string, agent: string, company: string, days_in_waiting_list: string, customer_type: string, adr: string, required_car_parking_spaces: string, total_of_special_requests: string, reservation_status: string, reservation_status_date: string]"
      ]
     },
     "execution_count": 8,
     "metadata": {},
     "output_type": "execute_result"
    }
   ],
   "source": [
    "spark.read.option('header','true').csv('hotel_bookings.csv')"
   ]
  },
  {
   "cell_type": "code",
   "execution_count": 9,
   "id": "fde68a2c",
   "metadata": {},
   "outputs": [
    {
     "data": {
      "text/plain": [
       "pyspark.sql.dataframe.DataFrame"
      ]
     },
     "execution_count": 9,
     "metadata": {},
     "output_type": "execute_result"
    }
   ],
   "source": [
    "type(df_pyspark)"
   ]
  },
  {
   "cell_type": "code",
   "execution_count": 10,
   "id": "cbd9d9cc",
   "metadata": {},
   "outputs": [
    {
     "name": "stdout",
     "output_type": "stream",
     "text": [
      "root\n",
      " |-- _c0: string (nullable = true)\n",
      " |-- _c1: string (nullable = true)\n",
      " |-- _c2: string (nullable = true)\n",
      " |-- _c3: string (nullable = true)\n",
      " |-- _c4: string (nullable = true)\n",
      " |-- _c5: string (nullable = true)\n",
      " |-- _c6: string (nullable = true)\n",
      " |-- _c7: string (nullable = true)\n",
      " |-- _c8: string (nullable = true)\n",
      " |-- _c9: string (nullable = true)\n",
      " |-- _c10: string (nullable = true)\n",
      " |-- _c11: string (nullable = true)\n",
      " |-- _c12: string (nullable = true)\n",
      " |-- _c13: string (nullable = true)\n",
      " |-- _c14: string (nullable = true)\n",
      " |-- _c15: string (nullable = true)\n",
      " |-- _c16: string (nullable = true)\n",
      " |-- _c17: string (nullable = true)\n",
      " |-- _c18: string (nullable = true)\n",
      " |-- _c19: string (nullable = true)\n",
      " |-- _c20: string (nullable = true)\n",
      " |-- _c21: string (nullable = true)\n",
      " |-- _c22: string (nullable = true)\n",
      " |-- _c23: string (nullable = true)\n",
      " |-- _c24: string (nullable = true)\n",
      " |-- _c25: string (nullable = true)\n",
      " |-- _c26: string (nullable = true)\n",
      " |-- _c27: string (nullable = true)\n",
      " |-- _c28: string (nullable = true)\n",
      " |-- _c29: string (nullable = true)\n",
      " |-- _c30: string (nullable = true)\n",
      " |-- _c31: string (nullable = true)\n",
      "\n"
     ]
    }
   ],
   "source": [
    "df_pyspark.printSchema()"
   ]
  },
  {
   "cell_type": "code",
   "execution_count": 11,
   "id": "b0d3a2a1",
   "metadata": {},
   "outputs": [],
   "source": [
    "#Read the dataset\n",
    "df_pyspark =spark.read.option('header','true').csv('hotel_bookings.csv',inferSchema=True)"
   ]
  },
  {
   "cell_type": "code",
   "execution_count": 12,
   "id": "3c36572e",
   "metadata": {},
   "outputs": [
    {
     "name": "stdout",
     "output_type": "stream",
     "text": [
      "root\n",
      " |-- hotel: string (nullable = true)\n",
      " |-- is_canceled: integer (nullable = true)\n",
      " |-- lead_time: integer (nullable = true)\n",
      " |-- arrival_date_year: integer (nullable = true)\n",
      " |-- arrival_date_month: string (nullable = true)\n",
      " |-- arrival_date_week_number: integer (nullable = true)\n",
      " |-- arrival_date_day_of_month: integer (nullable = true)\n",
      " |-- stays_in_weekend_nights: integer (nullable = true)\n",
      " |-- stays_in_week_nights: integer (nullable = true)\n",
      " |-- adults: integer (nullable = true)\n",
      " |-- children: string (nullable = true)\n",
      " |-- babies: integer (nullable = true)\n",
      " |-- meal: string (nullable = true)\n",
      " |-- country: string (nullable = true)\n",
      " |-- market_segment: string (nullable = true)\n",
      " |-- distribution_channel: string (nullable = true)\n",
      " |-- is_repeated_guest: integer (nullable = true)\n",
      " |-- previous_cancellations: integer (nullable = true)\n",
      " |-- previous_bookings_not_canceled: integer (nullable = true)\n",
      " |-- reserved_room_type: string (nullable = true)\n",
      " |-- assigned_room_type: string (nullable = true)\n",
      " |-- booking_changes: integer (nullable = true)\n",
      " |-- deposit_type: string (nullable = true)\n",
      " |-- agent: string (nullable = true)\n",
      " |-- company: string (nullable = true)\n",
      " |-- days_in_waiting_list: integer (nullable = true)\n",
      " |-- customer_type: string (nullable = true)\n",
      " |-- adr: double (nullable = true)\n",
      " |-- required_car_parking_spaces: integer (nullable = true)\n",
      " |-- total_of_special_requests: integer (nullable = true)\n",
      " |-- reservation_status: string (nullable = true)\n",
      " |-- reservation_status_date: timestamp (nullable = true)\n",
      "\n"
     ]
    }
   ],
   "source": [
    "#check the schema\n",
    "df_pyspark.printSchema()"
   ]
  },
  {
   "cell_type": "code",
   "execution_count": 14,
   "id": "073fa262",
   "metadata": {},
   "outputs": [
    {
     "name": "stdout",
     "output_type": "stream",
     "text": [
      "+------------+-----------+---------+-----------------+------------------+------------------------+-------------------------+-----------------------+--------------------+------+--------+------+----+-------+--------------+--------------------+-----------------+----------------------+------------------------------+------------------+------------------+---------------+------------+-----+-------+--------------------+-------------+------+---------------------------+-------------------------+------------------+-----------------------+\n",
      "|       hotel|is_canceled|lead_time|arrival_date_year|arrival_date_month|arrival_date_week_number|arrival_date_day_of_month|stays_in_weekend_nights|stays_in_week_nights|adults|children|babies|meal|country|market_segment|distribution_channel|is_repeated_guest|previous_cancellations|previous_bookings_not_canceled|reserved_room_type|assigned_room_type|booking_changes|deposit_type|agent|company|days_in_waiting_list|customer_type|   adr|required_car_parking_spaces|total_of_special_requests|reservation_status|reservation_status_date|\n",
      "+------------+-----------+---------+-----------------+------------------+------------------------+-------------------------+-----------------------+--------------------+------+--------+------+----+-------+--------------+--------------------+-----------------+----------------------+------------------------------+------------------+------------------+---------------+------------+-----+-------+--------------------+-------------+------+---------------------------+-------------------------+------------------+-----------------------+\n",
      "|Resort Hotel|          0|      342|             2015|              July|                      27|                        1|                      0|                   0|     2|       0|     0|  BB|    PRT|        Direct|              Direct|                0|                     0|                             0|                 C|                 C|              3|  No Deposit| NULL|   NULL|                   0|    Transient|   0.0|                          0|                        0|         Check-Out|    2015-07-01 00:00:00|\n",
      "|Resort Hotel|          0|      737|             2015|              July|                      27|                        1|                      0|                   0|     2|       0|     0|  BB|    PRT|        Direct|              Direct|                0|                     0|                             0|                 C|                 C|              4|  No Deposit| NULL|   NULL|                   0|    Transient|   0.0|                          0|                        0|         Check-Out|    2015-07-01 00:00:00|\n",
      "|Resort Hotel|          0|        7|             2015|              July|                      27|                        1|                      0|                   1|     1|       0|     0|  BB|    GBR|        Direct|              Direct|                0|                     0|                             0|                 A|                 C|              0|  No Deposit| NULL|   NULL|                   0|    Transient|  75.0|                          0|                        0|         Check-Out|    2015-07-02 00:00:00|\n",
      "|Resort Hotel|          0|       13|             2015|              July|                      27|                        1|                      0|                   1|     1|       0|     0|  BB|    GBR|     Corporate|           Corporate|                0|                     0|                             0|                 A|                 A|              0|  No Deposit|  304|   NULL|                   0|    Transient|  75.0|                          0|                        0|         Check-Out|    2015-07-02 00:00:00|\n",
      "|Resort Hotel|          0|       14|             2015|              July|                      27|                        1|                      0|                   2|     2|       0|     0|  BB|    GBR|     Online TA|               TA/TO|                0|                     0|                             0|                 A|                 A|              0|  No Deposit|  240|   NULL|                   0|    Transient|  98.0|                          0|                        1|         Check-Out|    2015-07-03 00:00:00|\n",
      "|Resort Hotel|          0|       14|             2015|              July|                      27|                        1|                      0|                   2|     2|       0|     0|  BB|    GBR|     Online TA|               TA/TO|                0|                     0|                             0|                 A|                 A|              0|  No Deposit|  240|   NULL|                   0|    Transient|  98.0|                          0|                        1|         Check-Out|    2015-07-03 00:00:00|\n",
      "|Resort Hotel|          0|        0|             2015|              July|                      27|                        1|                      0|                   2|     2|       0|     0|  BB|    PRT|        Direct|              Direct|                0|                     0|                             0|                 C|                 C|              0|  No Deposit| NULL|   NULL|                   0|    Transient| 107.0|                          0|                        0|         Check-Out|    2015-07-03 00:00:00|\n",
      "|Resort Hotel|          0|        9|             2015|              July|                      27|                        1|                      0|                   2|     2|       0|     0|  FB|    PRT|        Direct|              Direct|                0|                     0|                             0|                 C|                 C|              0|  No Deposit|  303|   NULL|                   0|    Transient| 103.0|                          0|                        1|         Check-Out|    2015-07-03 00:00:00|\n",
      "|Resort Hotel|          1|       85|             2015|              July|                      27|                        1|                      0|                   3|     2|       0|     0|  BB|    PRT|     Online TA|               TA/TO|                0|                     0|                             0|                 A|                 A|              0|  No Deposit|  240|   NULL|                   0|    Transient|  82.0|                          0|                        1|          Canceled|    2015-05-06 00:00:00|\n",
      "|Resort Hotel|          1|       75|             2015|              July|                      27|                        1|                      0|                   3|     2|       0|     0|  HB|    PRT| Offline TA/TO|               TA/TO|                0|                     0|                             0|                 D|                 D|              0|  No Deposit|   15|   NULL|                   0|    Transient| 105.5|                          0|                        0|          Canceled|    2015-04-22 00:00:00|\n",
      "|Resort Hotel|          1|       23|             2015|              July|                      27|                        1|                      0|                   4|     2|       0|     0|  BB|    PRT|     Online TA|               TA/TO|                0|                     0|                             0|                 E|                 E|              0|  No Deposit|  240|   NULL|                   0|    Transient| 123.0|                          0|                        0|          Canceled|    2015-06-23 00:00:00|\n",
      "|Resort Hotel|          0|       35|             2015|              July|                      27|                        1|                      0|                   4|     2|       0|     0|  HB|    PRT|     Online TA|               TA/TO|                0|                     0|                             0|                 D|                 D|              0|  No Deposit|  240|   NULL|                   0|    Transient| 145.0|                          0|                        0|         Check-Out|    2015-07-05 00:00:00|\n",
      "|Resort Hotel|          0|       68|             2015|              July|                      27|                        1|                      0|                   4|     2|       0|     0|  BB|    USA|     Online TA|               TA/TO|                0|                     0|                             0|                 D|                 E|              0|  No Deposit|  240|   NULL|                   0|    Transient|  97.0|                          0|                        3|         Check-Out|    2015-07-05 00:00:00|\n",
      "|Resort Hotel|          0|       18|             2015|              July|                      27|                        1|                      0|                   4|     2|       1|     0|  HB|    ESP|     Online TA|               TA/TO|                0|                     0|                             0|                 G|                 G|              1|  No Deposit|  241|   NULL|                   0|    Transient|154.77|                          0|                        1|         Check-Out|    2015-07-05 00:00:00|\n",
      "|Resort Hotel|          0|       37|             2015|              July|                      27|                        1|                      0|                   4|     2|       0|     0|  BB|    PRT|     Online TA|               TA/TO|                0|                     0|                             0|                 E|                 E|              0|  No Deposit|  241|   NULL|                   0|    Transient| 94.71|                          0|                        0|         Check-Out|    2015-07-05 00:00:00|\n",
      "|Resort Hotel|          0|       68|             2015|              July|                      27|                        1|                      0|                   4|     2|       0|     0|  BB|    IRL|     Online TA|               TA/TO|                0|                     0|                             0|                 D|                 E|              0|  No Deposit|  240|   NULL|                   0|    Transient|  97.0|                          0|                        3|         Check-Out|    2015-07-05 00:00:00|\n",
      "|Resort Hotel|          0|       37|             2015|              July|                      27|                        1|                      0|                   4|     2|       0|     0|  BB|    PRT| Offline TA/TO|               TA/TO|                0|                     0|                             0|                 E|                 E|              0|  No Deposit|    8|   NULL|                   0|     Contract|  97.5|                          0|                        0|         Check-Out|    2015-07-05 00:00:00|\n",
      "|Resort Hotel|          0|       12|             2015|              July|                      27|                        1|                      0|                   1|     2|       0|     0|  BB|    IRL|     Online TA|               TA/TO|                0|                     0|                             0|                 A|                 E|              0|  No Deposit|  240|   NULL|                   0|    Transient|  88.2|                          0|                        0|         Check-Out|    2015-07-02 00:00:00|\n",
      "|Resort Hotel|          0|        0|             2015|              July|                      27|                        1|                      0|                   1|     2|       0|     0|  BB|    FRA|     Corporate|           Corporate|                0|                     0|                             0|                 A|                 G|              0|  No Deposit| NULL|    110|                   0|    Transient|107.42|                          0|                        0|         Check-Out|    2015-07-02 00:00:00|\n",
      "|Resort Hotel|          0|        7|             2015|              July|                      27|                        1|                      0|                   4|     2|       0|     0|  BB|    GBR|        Direct|              Direct|                0|                     0|                             0|                 G|                 G|              0|  No Deposit|  250|   NULL|                   0|    Transient| 153.0|                          0|                        1|         Check-Out|    2015-07-05 00:00:00|\n",
      "+------------+-----------+---------+-----------------+------------------+------------------------+-------------------------+-----------------------+--------------------+------+--------+------+----+-------+--------------+--------------------+-----------------+----------------------+------------------------------+------------------+------------------+---------------+------------+-----+-------+--------------------+-------------+------+---------------------------+-------------------------+------------------+-----------------------+\n",
      "only showing top 20 rows\n",
      "\n"
     ]
    }
   ],
   "source": [
    "df_pyspark = spark.read.csv('hotel_bookings.csv',header=True,inferSchema=True)\n",
    "df_pyspark.show()"
   ]
  },
  {
   "cell_type": "code",
   "execution_count": 13,
   "id": "01430efa",
   "metadata": {},
   "outputs": [
    {
     "data": {
      "text/plain": [
       "pyspark.sql.dataframe.DataFrame"
      ]
     },
     "execution_count": 13,
     "metadata": {},
     "output_type": "execute_result"
    }
   ],
   "source": [
    "#Dataframe nothing but a Datastructures\n",
    "type(df_pyspark)"
   ]
  },
  {
   "cell_type": "code",
   "execution_count": 17,
   "id": "51ce9d7b",
   "metadata": {},
   "outputs": [
    {
     "data": {
      "text/plain": [
       "['hotel',\n",
       " 'is_canceled',\n",
       " 'lead_time',\n",
       " 'arrival_date_year',\n",
       " 'arrival_date_month',\n",
       " 'arrival_date_week_number',\n",
       " 'arrival_date_day_of_month',\n",
       " 'stays_in_weekend_nights',\n",
       " 'stays_in_week_nights',\n",
       " 'adults',\n",
       " 'children',\n",
       " 'babies',\n",
       " 'meal',\n",
       " 'country',\n",
       " 'market_segment',\n",
       " 'distribution_channel',\n",
       " 'is_repeated_guest',\n",
       " 'previous_cancellations',\n",
       " 'previous_bookings_not_canceled',\n",
       " 'reserved_room_type',\n",
       " 'assigned_room_type',\n",
       " 'booking_changes',\n",
       " 'deposit_type',\n",
       " 'agent',\n",
       " 'company',\n",
       " 'days_in_waiting_list',\n",
       " 'customer_type',\n",
       " 'adr',\n",
       " 'required_car_parking_spaces',\n",
       " 'total_of_special_requests',\n",
       " 'reservation_status',\n",
       " 'reservation_status_date']"
      ]
     },
     "execution_count": 17,
     "metadata": {},
     "output_type": "execute_result"
    }
   ],
   "source": [
    "#check column and Indexing\n",
    "df_pyspark.columns"
   ]
  },
  {
   "cell_type": "code",
   "execution_count": 18,
   "id": "c1d5b720",
   "metadata": {},
   "outputs": [
    {
     "data": {
      "text/plain": [
       "Row(hotel='Resort Hotel', is_canceled=0, lead_time=342, arrival_date_year=2015, arrival_date_month='July', arrival_date_week_number=27, arrival_date_day_of_month=1, stays_in_weekend_nights=0, stays_in_week_nights=0, adults=2, children='0', babies=0, meal='BB', country='PRT', market_segment='Direct', distribution_channel='Direct', is_repeated_guest=0, previous_cancellations=0, previous_bookings_not_canceled=0, reserved_room_type='C', assigned_room_type='C', booking_changes=3, deposit_type='No Deposit', agent='NULL', company='NULL', days_in_waiting_list=0, customer_type='Transient', adr=0.0, required_car_parking_spaces=0, total_of_special_requests=0, reservation_status='Check-Out', reservation_status_date=datetime.datetime(2015, 7, 1, 0, 0))"
      ]
     },
     "execution_count": 18,
     "metadata": {},
     "output_type": "execute_result"
    }
   ],
   "source": [
    "df_pyspark.head()"
   ]
  },
  {
   "cell_type": "code",
   "execution_count": 21,
   "id": "701c71c2",
   "metadata": {},
   "outputs": [
    {
     "name": "stdout",
     "output_type": "stream",
     "text": [
      "+------------+\n",
      "|       hotel|\n",
      "+------------+\n",
      "|Resort Hotel|\n",
      "|Resort Hotel|\n",
      "|Resort Hotel|\n",
      "|Resort Hotel|\n",
      "|Resort Hotel|\n",
      "|Resort Hotel|\n",
      "|Resort Hotel|\n",
      "|Resort Hotel|\n",
      "|Resort Hotel|\n",
      "|Resort Hotel|\n",
      "|Resort Hotel|\n",
      "|Resort Hotel|\n",
      "|Resort Hotel|\n",
      "|Resort Hotel|\n",
      "|Resort Hotel|\n",
      "|Resort Hotel|\n",
      "|Resort Hotel|\n",
      "|Resort Hotel|\n",
      "|Resort Hotel|\n",
      "|Resort Hotel|\n",
      "+------------+\n",
      "only showing top 20 rows\n",
      "\n"
     ]
    }
   ],
   "source": [
    "df_pyspark.select('hotel').show()"
   ]
  },
  {
   "cell_type": "code",
   "execution_count": 22,
   "id": "05911f98",
   "metadata": {},
   "outputs": [
    {
     "data": {
      "text/plain": [
       "pyspark.sql.dataframe.DataFrame"
      ]
     },
     "execution_count": 22,
     "metadata": {},
     "output_type": "execute_result"
    }
   ],
   "source": [
    "type(df_pyspark.select('hotel'))"
   ]
  },
  {
   "cell_type": "code",
   "execution_count": 23,
   "id": "89fdb47c",
   "metadata": {},
   "outputs": [
    {
     "data": {
      "text/plain": [
       "Column<'hotel'>"
      ]
     },
     "execution_count": 23,
     "metadata": {},
     "output_type": "execute_result"
    }
   ],
   "source": [
    "df_pyspark['hotel']"
   ]
  },
  {
   "cell_type": "code",
   "execution_count": 24,
   "id": "8ff37f5e",
   "metadata": {},
   "outputs": [
    {
     "name": "stdout",
     "output_type": "stream",
     "text": [
      "+-------+------------+-------------------+------------------+------------------+------------------+------------------------+-------------------------+-----------------------+--------------------+------------------+-------------------+--------------------+---------+-------+--------------+--------------------+-------------------+----------------------+------------------------------+------------------+------------------+-------------------+------------+------------------+------------------+--------------------+---------------+------------------+---------------------------+-------------------------+------------------+\n",
      "|summary|       hotel|        is_canceled|         lead_time| arrival_date_year|arrival_date_month|arrival_date_week_number|arrival_date_day_of_month|stays_in_weekend_nights|stays_in_week_nights|            adults|           children|              babies|     meal|country|market_segment|distribution_channel|  is_repeated_guest|previous_cancellations|previous_bookings_not_canceled|reserved_room_type|assigned_room_type|    booking_changes|deposit_type|             agent|           company|days_in_waiting_list|  customer_type|               adr|required_car_parking_spaces|total_of_special_requests|reservation_status|\n",
      "+-------+------------+-------------------+------------------+------------------+------------------+------------------------+-------------------------+-----------------------+--------------------+------------------+-------------------+--------------------+---------+-------+--------------+--------------------+-------------------+----------------------+------------------------------+------------------+------------------+-------------------+------------+------------------+------------------+--------------------+---------------+------------------+---------------------------+-------------------------+------------------+\n",
      "|  count|      119390|             119390|            119390|            119390|            119390|                  119390|                   119390|                 119390|              119390|            119390|             119390|              119390|   119390| 119390|        119390|              119390|             119390|                119390|                        119390|            119390|            119390|             119390|      119390|            119390|            119390|              119390|         119390|            119390|                     119390|                   119390|            119390|\n",
      "|   mean|        null|0.37041628277075134|104.01141636652986| 2016.156554150264|              null|       27.16517296255968|       15.798241058715135|     0.9275986263506156|   2.500301532791691|1.8564033838679956|0.10388990333874994|0.007948739425412514|     null|   null|          null|                null|0.03191222045397437|   0.08711784906608594|           0.13709690928888515|              null|              null|0.22112404724013737|        null| 86.69338185346919|189.26673532440782|   2.321149174972778|           null|101.83112153446551|        0.06251779881062065|       0.5713627607002262|              null|\n",
      "| stddev|        null| 0.4829182265925992|106.86309704798789|0.7074759445197123|              null|      13.605138355497637|        8.780829470578368|     0.9986134945978752|  1.9082856150479115|0.5792609988327535|0.39856144478644145| 0.09743619130126421|     null|   null|          null|                null|0.17576714541065686|    0.8443363841545107|            1.4974368477076778|              null|              null|  0.652305572674772|        null|110.77454764295125| 131.6550146385121|   17.59472087877621|           null|50.535790285548764|        0.24529114746749242|       0.7927984228094119|              null|\n",
      "|    min|  City Hotel|                  0|                 0|              2015|             April|                       1|                        1|                      0|                   0|                 0|                  0|                   0|       BB|    ABW|      Aviation|           Corporate|                  0|                     0|                             0|                 A|                 A|                  0|  No Deposit|                 1|                10|                   0|       Contract|             -6.38|                          0|                        0|          Canceled|\n",
      "|    max|Resort Hotel|                  1|               737|              2017|         September|                      53|                       31|                     19|                  50|                55|                 NA|                  10|Undefined|    ZWE|     Undefined|           Undefined|                  1|                    26|                            72|                 P|                 P|                 21|  Refundable|              NULL|              NULL|                 391|Transient-Party|            5400.0|                          8|                        5|           No-Show|\n",
      "+-------+------------+-------------------+------------------+------------------+------------------+------------------------+-------------------------+-----------------------+--------------------+------------------+-------------------+--------------------+---------+-------+--------------+--------------------+-------------------+----------------------+------------------------------+------------------+------------------+-------------------+------------+------------------+------------------+--------------------+---------------+------------------+---------------------------+-------------------------+------------------+\n",
      "\n"
     ]
    }
   ],
   "source": [
    "#check describe options\n",
    "df_pyspark.describe().show()"
   ]
  },
  {
   "cell_type": "code",
   "execution_count": 29,
   "id": "3e8ff8be",
   "metadata": {},
   "outputs": [
    {
     "ename": "AnalysisException",
     "evalue": "Cannot resolve column name \"Inauguration\" among (hotel, is_canceled, lead_time, arrival_date_year, arrival_date_month, arrival_date_week_number, arrival_date_day_of_month, stays_in_weekend_nights, stays_in_week_nights, adults, children, babies, meal, country, market_segment, distribution_channel, is_repeated_guest, previous_cancellations, previous_bookings_not_canceled, reserved_room_type, assigned_room_type, booking_changes, deposit_type, agent, company, days_in_waiting_list, customer_type, adr, required_car_parking_spaces, total_of_special_requests, reservation_status, reservation_status_date)",
     "output_type": "error",
     "traceback": [
      "\u001b[1;31m---------------------------------------------------------------------------\u001b[0m",
      "\u001b[1;31mAnalysisException\u001b[0m                         Traceback (most recent call last)",
      "\u001b[1;32m~\\AppData\\Local\\Temp/ipykernel_1844/2811618561.py\u001b[0m in \u001b[0;36m<module>\u001b[1;34m\u001b[0m\n\u001b[0;32m      1\u001b[0m \u001b[1;31m#adding columns in data frame\u001b[0m\u001b[1;33m\u001b[0m\u001b[1;33m\u001b[0m\u001b[0m\n\u001b[1;32m----> 2\u001b[1;33m \u001b[0mdf_pyspark\u001b[0m\u001b[1;33m.\u001b[0m\u001b[0mwithColumn\u001b[0m\u001b[1;33m(\u001b[0m\u001b[1;34m'Inauguration'\u001b[0m\u001b[1;33m,\u001b[0m\u001b[0mdf_pyspark\u001b[0m\u001b[1;33m[\u001b[0m\u001b[1;34m'Inauguration'\u001b[0m\u001b[1;33m]\u001b[0m\u001b[1;33m+\u001b[0m\u001b[1;36m2\u001b[0m\u001b[1;33m)\u001b[0m\u001b[1;33m\u001b[0m\u001b[1;33m\u001b[0m\u001b[0m\n\u001b[0m",
      "\u001b[1;32m~\\anaconda3\\lib\\site-packages\\pyspark\\sql\\dataframe.py\u001b[0m in \u001b[0;36m__getitem__\u001b[1;34m(self, item)\u001b[0m\n\u001b[0;32m   1963\u001b[0m         \"\"\"\n\u001b[0;32m   1964\u001b[0m         \u001b[1;32mif\u001b[0m \u001b[0misinstance\u001b[0m\u001b[1;33m(\u001b[0m\u001b[0mitem\u001b[0m\u001b[1;33m,\u001b[0m \u001b[0mstr\u001b[0m\u001b[1;33m)\u001b[0m\u001b[1;33m:\u001b[0m\u001b[1;33m\u001b[0m\u001b[1;33m\u001b[0m\u001b[0m\n\u001b[1;32m-> 1965\u001b[1;33m             \u001b[0mjc\u001b[0m \u001b[1;33m=\u001b[0m \u001b[0mself\u001b[0m\u001b[1;33m.\u001b[0m\u001b[0m_jdf\u001b[0m\u001b[1;33m.\u001b[0m\u001b[0mapply\u001b[0m\u001b[1;33m(\u001b[0m\u001b[0mitem\u001b[0m\u001b[1;33m)\u001b[0m\u001b[1;33m\u001b[0m\u001b[1;33m\u001b[0m\u001b[0m\n\u001b[0m\u001b[0;32m   1966\u001b[0m             \u001b[1;32mreturn\u001b[0m \u001b[0mColumn\u001b[0m\u001b[1;33m(\u001b[0m\u001b[0mjc\u001b[0m\u001b[1;33m)\u001b[0m\u001b[1;33m\u001b[0m\u001b[1;33m\u001b[0m\u001b[0m\n\u001b[0;32m   1967\u001b[0m         \u001b[1;32melif\u001b[0m \u001b[0misinstance\u001b[0m\u001b[1;33m(\u001b[0m\u001b[0mitem\u001b[0m\u001b[1;33m,\u001b[0m \u001b[0mColumn\u001b[0m\u001b[1;33m)\u001b[0m\u001b[1;33m:\u001b[0m\u001b[1;33m\u001b[0m\u001b[1;33m\u001b[0m\u001b[0m\n",
      "\u001b[1;32m~\\anaconda3\\lib\\site-packages\\py4j\\java_gateway.py\u001b[0m in \u001b[0;36m__call__\u001b[1;34m(self, *args)\u001b[0m\n\u001b[0;32m   1319\u001b[0m \u001b[1;33m\u001b[0m\u001b[0m\n\u001b[0;32m   1320\u001b[0m         \u001b[0manswer\u001b[0m \u001b[1;33m=\u001b[0m \u001b[0mself\u001b[0m\u001b[1;33m.\u001b[0m\u001b[0mgateway_client\u001b[0m\u001b[1;33m.\u001b[0m\u001b[0msend_command\u001b[0m\u001b[1;33m(\u001b[0m\u001b[0mcommand\u001b[0m\u001b[1;33m)\u001b[0m\u001b[1;33m\u001b[0m\u001b[1;33m\u001b[0m\u001b[0m\n\u001b[1;32m-> 1321\u001b[1;33m         return_value = get_return_value(\n\u001b[0m\u001b[0;32m   1322\u001b[0m             answer, self.gateway_client, self.target_id, self.name)\n\u001b[0;32m   1323\u001b[0m \u001b[1;33m\u001b[0m\u001b[0m\n",
      "\u001b[1;32m~\\anaconda3\\lib\\site-packages\\pyspark\\sql\\utils.py\u001b[0m in \u001b[0;36mdeco\u001b[1;34m(*a, **kw)\u001b[0m\n\u001b[0;32m    194\u001b[0m                 \u001b[1;31m# Hide where the exception came from that shows a non-Pythonic\u001b[0m\u001b[1;33m\u001b[0m\u001b[1;33m\u001b[0m\u001b[0m\n\u001b[0;32m    195\u001b[0m                 \u001b[1;31m# JVM exception message.\u001b[0m\u001b[1;33m\u001b[0m\u001b[1;33m\u001b[0m\u001b[0m\n\u001b[1;32m--> 196\u001b[1;33m                 \u001b[1;32mraise\u001b[0m \u001b[0mconverted\u001b[0m \u001b[1;32mfrom\u001b[0m \u001b[1;32mNone\u001b[0m\u001b[1;33m\u001b[0m\u001b[1;33m\u001b[0m\u001b[0m\n\u001b[0m\u001b[0;32m    197\u001b[0m             \u001b[1;32melse\u001b[0m\u001b[1;33m:\u001b[0m\u001b[1;33m\u001b[0m\u001b[1;33m\u001b[0m\u001b[0m\n\u001b[0;32m    198\u001b[0m                 \u001b[1;32mraise\u001b[0m\u001b[1;33m\u001b[0m\u001b[1;33m\u001b[0m\u001b[0m\n",
      "\u001b[1;31mAnalysisException\u001b[0m: Cannot resolve column name \"Inauguration\" among (hotel, is_canceled, lead_time, arrival_date_year, arrival_date_month, arrival_date_week_number, arrival_date_day_of_month, stays_in_weekend_nights, stays_in_week_nights, adults, children, babies, meal, country, market_segment, distribution_channel, is_repeated_guest, previous_cancellations, previous_bookings_not_canceled, reserved_room_type, assigned_room_type, booking_changes, deposit_type, agent, company, days_in_waiting_list, customer_type, adr, required_car_parking_spaces, total_of_special_requests, reservation_status, reservation_status_date)"
     ]
    }
   ],
   "source": [
    "#adding columns in data frame\n",
    "df_pyspark.withColumn('Inauguration',df_pyspark['Inauguration']+2)"
   ]
  },
  {
   "cell_type": "code",
   "execution_count": 32,
   "id": "598a8514",
   "metadata": {},
   "outputs": [
    {
     "ename": "AnalysisException",
     "evalue": "Cannot resolve column name \"experience\" among (hotel, is_canceled, lead_time, arrival_date_year, arrival_date_month, arrival_date_week_number, arrival_date_day_of_month, stays_in_weekend_nights, stays_in_week_nights, adults, children, babies, meal, country, market_segment, distribution_channel, is_repeated_guest, previous_cancellations, previous_bookings_not_canceled, reserved_room_type, assigned_room_type, booking_changes, deposit_type, agent, company, days_in_waiting_list, customer_type, adr, required_car_parking_spaces, total_of_special_requests, reservation_status, reservation_status_date)",
     "output_type": "error",
     "traceback": [
      "\u001b[1;31m---------------------------------------------------------------------------\u001b[0m",
      "\u001b[1;31mAnalysisException\u001b[0m                         Traceback (most recent call last)",
      "\u001b[1;32m~\\AppData\\Local\\Temp/ipykernel_1844/3755403048.py\u001b[0m in \u001b[0;36m<module>\u001b[1;34m\u001b[0m\n\u001b[1;32m----> 1\u001b[1;33m \u001b[0mdf_pyspark\u001b[0m\u001b[1;33m.\u001b[0m\u001b[0mwithColumn\u001b[0m\u001b[1;33m(\u001b[0m\u001b[1;34m'Experience after 2 year'\u001b[0m\u001b[1;33m,\u001b[0m\u001b[0mdf_pyspark\u001b[0m\u001b[1;33m[\u001b[0m\u001b[1;34m'experience'\u001b[0m\u001b[1;33m]\u001b[0m\u001b[1;33m+\u001b[0m\u001b[1;36m2\u001b[0m\u001b[1;33m)\u001b[0m\u001b[1;33m\u001b[0m\u001b[1;33m\u001b[0m\u001b[0m\n\u001b[0m",
      "\u001b[1;32m~\\anaconda3\\lib\\site-packages\\pyspark\\sql\\dataframe.py\u001b[0m in \u001b[0;36m__getitem__\u001b[1;34m(self, item)\u001b[0m\n\u001b[0;32m   1963\u001b[0m         \"\"\"\n\u001b[0;32m   1964\u001b[0m         \u001b[1;32mif\u001b[0m \u001b[0misinstance\u001b[0m\u001b[1;33m(\u001b[0m\u001b[0mitem\u001b[0m\u001b[1;33m,\u001b[0m \u001b[0mstr\u001b[0m\u001b[1;33m)\u001b[0m\u001b[1;33m:\u001b[0m\u001b[1;33m\u001b[0m\u001b[1;33m\u001b[0m\u001b[0m\n\u001b[1;32m-> 1965\u001b[1;33m             \u001b[0mjc\u001b[0m \u001b[1;33m=\u001b[0m \u001b[0mself\u001b[0m\u001b[1;33m.\u001b[0m\u001b[0m_jdf\u001b[0m\u001b[1;33m.\u001b[0m\u001b[0mapply\u001b[0m\u001b[1;33m(\u001b[0m\u001b[0mitem\u001b[0m\u001b[1;33m)\u001b[0m\u001b[1;33m\u001b[0m\u001b[1;33m\u001b[0m\u001b[0m\n\u001b[0m\u001b[0;32m   1966\u001b[0m             \u001b[1;32mreturn\u001b[0m \u001b[0mColumn\u001b[0m\u001b[1;33m(\u001b[0m\u001b[0mjc\u001b[0m\u001b[1;33m)\u001b[0m\u001b[1;33m\u001b[0m\u001b[1;33m\u001b[0m\u001b[0m\n\u001b[0;32m   1967\u001b[0m         \u001b[1;32melif\u001b[0m \u001b[0misinstance\u001b[0m\u001b[1;33m(\u001b[0m\u001b[0mitem\u001b[0m\u001b[1;33m,\u001b[0m \u001b[0mColumn\u001b[0m\u001b[1;33m)\u001b[0m\u001b[1;33m:\u001b[0m\u001b[1;33m\u001b[0m\u001b[1;33m\u001b[0m\u001b[0m\n",
      "\u001b[1;32m~\\anaconda3\\lib\\site-packages\\py4j\\java_gateway.py\u001b[0m in \u001b[0;36m__call__\u001b[1;34m(self, *args)\u001b[0m\n\u001b[0;32m   1319\u001b[0m \u001b[1;33m\u001b[0m\u001b[0m\n\u001b[0;32m   1320\u001b[0m         \u001b[0manswer\u001b[0m \u001b[1;33m=\u001b[0m \u001b[0mself\u001b[0m\u001b[1;33m.\u001b[0m\u001b[0mgateway_client\u001b[0m\u001b[1;33m.\u001b[0m\u001b[0msend_command\u001b[0m\u001b[1;33m(\u001b[0m\u001b[0mcommand\u001b[0m\u001b[1;33m)\u001b[0m\u001b[1;33m\u001b[0m\u001b[1;33m\u001b[0m\u001b[0m\n\u001b[1;32m-> 1321\u001b[1;33m         return_value = get_return_value(\n\u001b[0m\u001b[0;32m   1322\u001b[0m             answer, self.gateway_client, self.target_id, self.name)\n\u001b[0;32m   1323\u001b[0m \u001b[1;33m\u001b[0m\u001b[0m\n",
      "\u001b[1;32m~\\anaconda3\\lib\\site-packages\\pyspark\\sql\\utils.py\u001b[0m in \u001b[0;36mdeco\u001b[1;34m(*a, **kw)\u001b[0m\n\u001b[0;32m    194\u001b[0m                 \u001b[1;31m# Hide where the exception came from that shows a non-Pythonic\u001b[0m\u001b[1;33m\u001b[0m\u001b[1;33m\u001b[0m\u001b[0m\n\u001b[0;32m    195\u001b[0m                 \u001b[1;31m# JVM exception message.\u001b[0m\u001b[1;33m\u001b[0m\u001b[1;33m\u001b[0m\u001b[0m\n\u001b[1;32m--> 196\u001b[1;33m                 \u001b[1;32mraise\u001b[0m \u001b[0mconverted\u001b[0m \u001b[1;32mfrom\u001b[0m \u001b[1;32mNone\u001b[0m\u001b[1;33m\u001b[0m\u001b[1;33m\u001b[0m\u001b[0m\n\u001b[0m\u001b[0;32m    197\u001b[0m             \u001b[1;32melse\u001b[0m\u001b[1;33m:\u001b[0m\u001b[1;33m\u001b[0m\u001b[1;33m\u001b[0m\u001b[0m\n\u001b[0;32m    198\u001b[0m                 \u001b[1;32mraise\u001b[0m\u001b[1;33m\u001b[0m\u001b[1;33m\u001b[0m\u001b[0m\n",
      "\u001b[1;31mAnalysisException\u001b[0m: Cannot resolve column name \"experience\" among (hotel, is_canceled, lead_time, arrival_date_year, arrival_date_month, arrival_date_week_number, arrival_date_day_of_month, stays_in_weekend_nights, stays_in_week_nights, adults, children, babies, meal, country, market_segment, distribution_channel, is_repeated_guest, previous_cancellations, previous_bookings_not_canceled, reserved_room_type, assigned_room_type, booking_changes, deposit_type, agent, company, days_in_waiting_list, customer_type, adr, required_car_parking_spaces, total_of_special_requests, reservation_status, reservation_status_date)"
     ]
    }
   ],
   "source": [
    "df_pyspark.withColumn('Experience after 2 year',df_pyspark['experience']+2).show()"
   ]
  },
  {
   "cell_type": "code",
   "execution_count": null,
   "id": "40d4d5f0",
   "metadata": {},
   "outputs": [],
   "source": [
    "#Drop the columns\n",
    "df_pyspark.drop('Experience after 2 year').show()"
   ]
  },
  {
   "cell_type": "code",
   "execution_count": null,
   "id": "792d28fb",
   "metadata": {},
   "outputs": [],
   "source": [
    "#rename the columns\n",
    "df_pyspark.withColumnsRenamed('Name','New Name').show()"
   ]
  },
  {
   "cell_type": "code",
   "execution_count": null,
   "id": "dcb26a74",
   "metadata": {},
   "outputs": [],
   "source": [
    "df_pyspark.na.drop(how=\"any\").show()"
   ]
  }
 ],
 "metadata": {
  "kernelspec": {
   "display_name": "Python 3 (ipykernel)",
   "language": "python",
   "name": "python3"
  },
  "language_info": {
   "codemirror_mode": {
    "name": "ipython",
    "version": 3
   },
   "file_extension": ".py",
   "mimetype": "text/x-python",
   "name": "python",
   "nbconvert_exporter": "python",
   "pygments_lexer": "ipython3",
   "version": "3.9.7"
  }
 },
 "nbformat": 4,
 "nbformat_minor": 5
}
